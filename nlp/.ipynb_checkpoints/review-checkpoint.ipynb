{
 "cells": [
  {
   "cell_type": "code",
   "execution_count": 1,
   "id": "810bffb5",
   "metadata": {
    "id": "810bffb5",
    "outputId": "526abec7-4945-48b2-f498-b492737039d9"
   },
   "outputs": [
    {
     "name": "stdout",
     "output_type": "stream",
     "text": [
      "Requirement already satisfied: KoNLPy in d:\\kdt\\anaconda3\\lib\\site-packages (0.6.0)\n",
      "Requirement already satisfied: JPype1>=0.7.0 in d:\\kdt\\anaconda3\\lib\\site-packages (from KoNLPy) (1.5.0)\n",
      "Requirement already satisfied: lxml>=4.1.0 in d:\\kdt\\anaconda3\\lib\\site-packages (from KoNLPy) (4.9.3)\n",
      "Requirement already satisfied: numpy>=1.6 in d:\\kdt\\anaconda3\\lib\\site-packages (from KoNLPy) (1.24.3)\n",
      "Requirement already satisfied: packaging in d:\\kdt\\anaconda3\\lib\\site-packages (from JPype1>=0.7.0->KoNLPy) (23.1)\n"
     ]
    }
   ],
   "source": [
    "!pip install KoNLPy"
   ]
  },
  {
   "cell_type": "code",
   "execution_count": 2,
   "id": "4bd1476d",
   "metadata": {
    "id": "4bd1476d"
   },
   "outputs": [],
   "source": [
    "# 데이터 분석\n",
    "import pandas as pd\n",
    "import numpy as np"
   ]
  },
  {
   "cell_type": "code",
   "execution_count": 3,
   "id": "6a18fe87",
   "metadata": {
    "id": "6a18fe87"
   },
   "outputs": [],
   "source": [
    "# 시각화\n",
    "import seaborn as sns\n",
    "import matplotlib.pyplot as plt\n",
    "import koreanize_matplotlib"
   ]
  },
  {
   "cell_type": "code",
   "execution_count": 4,
   "id": "f0e57283",
   "metadata": {
    "id": "f0e57283"
   },
   "outputs": [],
   "source": [
    "# 정규표현식\n",
    "import re"
   ]
  },
  {
   "cell_type": "code",
   "execution_count": 5,
   "id": "c481b14e",
   "metadata": {
    "id": "c481b14e"
   },
   "outputs": [],
   "source": [
    "# 형태소분석\n",
    "from konlpy.tag import Okt\n",
    "okt = Okt()"
   ]
  },
  {
   "cell_type": "code",
   "execution_count": 6,
   "id": "77c52d9f",
   "metadata": {
    "id": "77c52d9f"
   },
   "outputs": [],
   "source": [
    "# 시간\n",
    "import time"
   ]
  },
  {
   "cell_type": "markdown",
   "id": "3ecebdbb",
   "metadata": {
    "id": "3ecebdbb"
   },
   "source": [
    "* 품사태그표 :\n",
    "    * https://konlpy.org/ko/v0.6.0/morph/\n",
    "    * https://docs.google.com/spreadsheets/d/1OGAjUvalBuX-oZvZ_-9tEfYD2gQe7hTGsgUpiiBSXI8/edit#gid=0"
   ]
  },
  {
   "cell_type": "code",
   "execution_count": 10,
   "id": "10d7e0e6",
   "metadata": {
    "id": "10d7e0e6"
   },
   "outputs": [],
   "source": [
    "def extract_korean_from_series(series):\n",
    "    # 정규 표현식을 사용하여 한글만 추출\n",
    "    def extract_korean(text):\n",
    "\n",
    "        # 한글과 공백만 추출\n",
    "        text = re.sub(r'[^ㄱ-ㅎㅏ-ㅣ가-힣\\s]','',text)\n",
    "        # 공백 2개 이상인경우 1개로 변환\n",
    "        text = re.sub(r'\\s+',' ',text)\n",
    "\n",
    "        return text\n",
    "\n",
    "    # 시리즈의 각 요소에 대해 한글 추출 함수 적용\n",
    "    return series.map(extract_korean)"
   ]
  },
  {
   "cell_type": "code",
   "execution_count": 11,
   "id": "b58213bf",
   "metadata": {
    "id": "b58213bf"
   },
   "outputs": [],
   "source": [
    "# 시리즈에서 중복을 제거한 형용사 추출후 리스트로 반환\n",
    "def extract_adjectives_from_series_by_pecab(analyzer, series):\n",
    "    adjectives = set()  # 중복을 제거하기 위해 집합 사용\n",
    "    # 시리즈의 각 요소에 대해 반복\n",
    "    for i, text in enumerate(series):\n",
    "        start = time.time()\n",
    "        analyzer_pos = analyzer.pos(text)\n",
    "        join_text = []\n",
    "        for text,pos in analyzer_pos:\n",
    "            if pos.startswith('VV') or pos.startswith('VA') :\n",
    "                join_text.append(f'{pos}-{text}')\n",
    "\n",
    "        adjectives.update(join_text)\n",
    "\n",
    "        print(f'{i+1}번째 수행../ 소요시간 : {time.time() - start}')\n",
    "    return list(adjectives)"
   ]
  },
  {
   "cell_type": "code",
   "execution_count": 12,
   "id": "78e4c650",
   "metadata": {
    "id": "78e4c650"
   },
   "outputs": [],
   "source": [
    "# # 시리즈에서 중복을 제거한 형용사 추출후 리스트로 반환\n",
    "# def extract_adjectives_from_series_by_okt(analyzer, series):\n",
    "#     adjectives = set()  # 중복을 제거하기 위해 집합 사용\n",
    "#     # 시리즈의 각 요소에 대해 반복\n",
    "#     for i, text in enumerate(series):\n",
    "#         start = time.time()\n",
    "#         analyzer_pos = analyzer.pos(text)\n",
    "#         join_text = []\n",
    "#         for text,pos in analyzer_pos:\n",
    "#             if pos.startswith('Verb') or pos.startswith('Adjective') :\n",
    "#                 join_text.append(f'{pos}-{text}')\n",
    "\n",
    "#         adjectives.update(join_text)\n",
    "\n",
    "#         print(f'{i+1}번째 수행../ 소요시간 : {time.time() - start}')\n",
    "#     return list(adjectives)"
   ]
  },
  {
   "cell_type": "code",
   "execution_count": 13,
   "id": "218aec8a",
   "metadata": {
    "id": "218aec8a"
   },
   "outputs": [],
   "source": [
    "# 시리즈에서 중복을 제거한 형용사와 동사 추출 후 리스트로 반환\n",
    "def extract_adjectives_from_series_by_okt(analyzer, series):\n",
    "    words = set()  # 중복을 제거하기 위해 집합 사용\n",
    "\n",
    "    # 시리즈의 각 요소에 대해 반복\n",
    "    for i, text in enumerate(series):\n",
    "        start = time.time()\n",
    "        analyzer_pos = analyzer.pos(text)\n",
    "        for word, pos in analyzer_pos:\n",
    "            if pos == 'Verb' or pos == 'Adjective':\n",
    "                words.add((pos, word))\n",
    "\n",
    "        print(f'{i+1}번째 수행.../ 소요시간 : {time.time() - start}')\n",
    "\n",
    "    # (품사, 단어) 형식의 튜플을 리스트로 변경하여 반환\n",
    "    return [[pos, word] for pos, word in words]"
   ]
  },
  {
   "cell_type": "code",
   "execution_count": 16,
   "id": "1a6fef8f",
   "metadata": {
    "id": "1a6fef8f"
   },
   "outputs": [],
   "source": [
    "# 문자길이가 3000 이상인행 삭제\n",
    "# df_1t.drop(df_1t[df_1t['review2_len'] >= 3000].index, inplace=True)"
   ]
  },
  {
   "cell_type": "code",
   "execution_count": null,
   "id": "7fedd114",
   "metadata": {},
   "outputs": [],
   "source": [
    "dfile = pd.read_csv('')"
   ]
  },
  {
   "cell_type": "code",
   "execution_count": 23,
   "id": "862a8d84",
   "metadata": {
    "id": "862a8d84",
    "outputId": "eb0070c4-38b5-4b6f-a731-f9a74029e680"
   },
   "outputs": [
    {
     "data": {
      "text/plain": [
       "array([['Verb', '왔으면'],\n",
       "       ['Verb', '열리게'],\n",
       "       ['Verb', '올랐음'],\n",
       "       ...,\n",
       "       ['Adjective', '실한'],\n",
       "       ['Adjective', '맛있었던건'],\n",
       "       ['Verb', '되는']], dtype='<U9')"
      ]
     },
     "execution_count": 23,
     "metadata": {},
     "output_type": "execute_result"
    }
   ],
   "source": [
    "combined_array = np.vstack((verb_adjective_1t,verb_adjective_2t,verb_adjective_3t))\n",
    "combined_array"
   ]
  },
  {
   "cell_type": "code",
   "execution_count": 24,
   "id": "6c131797",
   "metadata": {
    "id": "6c131797"
   },
   "outputs": [],
   "source": [
    "sentiment_dict = pd.DataFrame(combined_array,columns=['품사','단어'])\n",
    "sentiment_dict = sentiment_dict.sort_values(by=['품사','단어'], ascending=[True,True])"
   ]
  },
  {
   "cell_type": "code",
   "execution_count": 25,
   "id": "11557bb5",
   "metadata": {
    "id": "11557bb5",
    "outputId": "21bf85f2-f801-419c-d54e-6a5a7942d7da",
    "scrolled": false
   },
   "outputs": [
    {
     "data": {
      "text/plain": [
       "품사\n",
       "Verb         1425\n",
       "Adjective     763\n",
       "Name: count, dtype: int64"
      ]
     },
     "execution_count": 25,
     "metadata": {},
     "output_type": "execute_result"
    }
   ],
   "source": [
    "sentiment_dict['품사'].value_counts()"
   ]
  },
  {
   "cell_type": "code",
   "execution_count": 26,
   "id": "cd96310d",
   "metadata": {
    "id": "cd96310d"
   },
   "outputs": [],
   "source": [
    "sentiment_dict.to_excel('./data/감성사전.xlsx',index=False)"
   ]
  },
  {
   "cell_type": "code",
   "execution_count": null,
   "id": "cd8245ac",
   "metadata": {
    "id": "cd8245ac"
   },
   "outputs": [],
   "source": []
  }
 ],
 "metadata": {
  "colab": {
   "provenance": []
  },
  "kernelspec": {
   "display_name": "Python 3 (ipykernel)",
   "language": "python",
   "name": "python3"
  },
  "language_info": {
   "codemirror_mode": {
    "name": "ipython",
    "version": 3
   },
   "file_extension": ".py",
   "mimetype": "text/x-python",
   "name": "python",
   "nbconvert_exporter": "python",
   "pygments_lexer": "ipython3",
   "version": "3.11.5"
  },
  "toc": {
   "base_numbering": 1,
   "nav_menu": {},
   "number_sections": true,
   "sideBar": true,
   "skip_h1_title": false,
   "title_cell": "Table of Contents",
   "title_sidebar": "Contents",
   "toc_cell": false,
   "toc_position": {},
   "toc_section_display": true,
   "toc_window_display": false
  },
  "varInspector": {
   "cols": {
    "lenName": 16,
    "lenType": 16,
    "lenVar": 40
   },
   "kernels_config": {
    "python": {
     "delete_cmd_postfix": "",
     "delete_cmd_prefix": "del ",
     "library": "var_list.py",
     "varRefreshCmd": "print(var_dic_list())"
    },
    "r": {
     "delete_cmd_postfix": ") ",
     "delete_cmd_prefix": "rm(",
     "library": "var_list.r",
     "varRefreshCmd": "cat(var_dic_list()) "
    }
   },
   "types_to_exclude": [
    "module",
    "function",
    "builtin_function_or_method",
    "instance",
    "_Feature"
   ],
   "window_display": false
  }
 },
 "nbformat": 4,
 "nbformat_minor": 5
}
