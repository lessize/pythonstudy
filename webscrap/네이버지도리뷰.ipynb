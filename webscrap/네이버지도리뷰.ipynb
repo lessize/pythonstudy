{
 "cells": [
  {
   "cell_type": "code",
   "execution_count": 154,
   "id": "914c58a6",
   "metadata": {},
   "outputs": [],
   "source": [
    "# selenium 라이브러리에서 webdriver 모듈 임포트, 웹 브라우저를 자동으로 제어하기 위한 기능을 제공\n",
    "from selenium import webdriver\n",
    "# 크롬 웹드라이버를 위한 서비스 객체를 사용하기 위해 Service 모듈 임포트\n",
    "from selenium.webdriver.chrome.service import Service\n",
    "# 크롬 드라이버의 자동 업데이트를 위해 webdriver_manager에서 ChromeDriverManager를 임포트\n",
    "from webdriver_manager.chrome import ChromeDriverManager\n",
    "# 크롬 옵션을 설정하기 위한 Options 모듈을 임포트 일반적으로 브라우저의 특정 옵션을 설정할 때 사용\n",
    "from selenium.webdriver.chrome.options import Options\n",
    "# html요소 접근 전략\n",
    "from selenium.webdriver.common.by import By\n",
    "# 키보드 조작\n",
    "from selenium.webdriver.common.keys import Keys\n",
    "\n",
    "import pandas as pd\n",
    "from bs4 import BeautifulSoup\n",
    "import pyautogui\n",
    "import time\n",
    "\n",
    "# 크롬 브라우저 꺼짐 방지\n",
    "chrome_options = Options()\n",
    "chrome_options.add_experimental_option(\"detach\",True)\n",
    "# 불필요한 에레 메세지 제거\n",
    "chrome_options.add_experimental_option(\"excludeSwitches\",[\"enable-logging\"])"
   ]
  },
  {
   "cell_type": "code",
   "execution_count": 184,
   "id": "7786b80e",
   "metadata": {},
   "outputs": [],
   "source": [
    "# ChromeDriverManager를 사용해 버전에 맞는 웹드라이버를 다운로드하여 해당 경로를 셀레니움에 전달\n",
    "driver = webdriver.Chrome(service=Service(ChromeDriverManager().install()), options=chrome_options)\n",
    "# 웹페이지가 로딩될대까지 2초대기\n",
    "driver.implicitly_wait(2)\n",
    "# 브라우저 크기 최대화\n",
    "driver.maximize_window()"
   ]
  },
  {
   "cell_type": "code",
   "execution_count": 190,
   "id": "af69f3e9",
   "metadata": {},
   "outputs": [],
   "source": [
    "url = 'https://map.naver.com'\n",
    "driver.get(url)\n",
    "time.sleep(2)"
   ]
  },
  {
   "cell_type": "code",
   "execution_count": 191,
   "id": "5290b5e9",
   "metadata": {},
   "outputs": [],
   "source": [
    "# 검색어 입력\n",
    "input_search = driver.find_element(By.CSS_SELECTOR,'input.input_search')\n",
    "input_search.click()\n",
    "time.sleep(1)\n",
    "input_search.clear()\n",
    "input_search.send_keys('울산 북구 맛집')\n",
    "time.sleep(1)\n",
    "input_search.send_keys(Keys.ENTER)\n",
    "time.sleep(1)"
   ]
  },
  {
   "cell_type": "code",
   "execution_count": 192,
   "id": "4d10b2a9",
   "metadata": {},
   "outputs": [],
   "source": [
    "#필터링 (많이 찾는)\n",
    "\n",
    "# iframe 진입\n",
    "iframe = driver.find_element(By.CSS_SELECTOR, \"#searchIframe\")\n",
    "\n",
    "# switch to selected iframe\n",
    "driver.switch_to.frame(iframe)\n",
    "driver.find_element(By.CSS_SELECTOR, '#app-root .T46Lb.pTP9T.LXtsf').click()\n",
    "time.sleep(1)\n",
    "\n",
    "# 많이 찾는 클릭!\n",
    "driver.find_element(By.CSS_SELECTOR, '.qP6uz.SbSKx').click()\n",
    "time.sleep(1)\n",
    "\n",
    "# 결과보기 버튼 클릭\n",
    "driver.find_element(By.CSS_SELECTOR, '#modal-root .GZe5x.Mj_l3').click()\n",
    "time.sleep(1)\n",
    "# # iframe 탈출\n",
    "# driver.switch_to.default_content()"
   ]
  },
  {
   "cell_type": "code",
   "execution_count": 188,
   "id": "061cf5a7",
   "metadata": {},
   "outputs": [
    {
     "name": "stdout",
     "output_type": "stream",
     "text": [
      "10\n",
      "스크롤전:10, 스크롤후:20\n",
      "스크롤전:20, 스크롤후:30\n",
      "스크롤전:30, 스크롤후:40\n",
      "스크롤전:40, 스크롤후:50\n",
      "스크롤전:50, 스크롤후:54\n",
      "스크롤전:54, 스크롤후:54\n"
     ]
    }
   ],
   "source": [
    "# 무한 스크롤\n",
    "driver.find_element(By.CSS_SELECTOR, '#_pcmap_list_scroll_container').click()\n",
    "\n",
    "# 로딩된 데이터 개수 확인\n",
    "lis = driver.find_elements(By.CSS_SELECTOR, 'li.UEzoS.rTjJo')\n",
    "prev_len = len(lis)\n",
    "print(prev_len)\n",
    "while True :\n",
    "    # 맨 아래로 스크롤 내림\n",
    "    driver.find_element(By.CSS_SELECTOR,'body').send_keys(Keys.END)    \n",
    "    time.sleep(2)\n",
    "    \n",
    "    # 스크롤 내린후 li 갯수\n",
    "    lis = driver.find_elements(By.CSS_SELECTOR, 'li.UEzoS.rTjJo')\n",
    "    curr_len = len(lis)\n",
    "    \n",
    "    print(f'스크롤전:{prev_len}, 스크롤후:{curr_len}')\n",
    "    if curr_len == prev_len :\n",
    "        break\n",
    "    prev_len = curr_len        \n"
   ]
  },
  {
   "cell_type": "code",
   "execution_count": 178,
   "id": "ccb9ea6f",
   "metadata": {},
   "outputs": [
    {
     "name": "stdout",
     "output_type": "stream",
     "text": [
      "body\n",
      "\n",
      "place_on_pcmap\n"
     ]
    }
   ],
   "source": [
    "# # 현재 포커스된 요소 가져오기\n",
    "# focused_element = driver.execute_script(\"return document.activeElement;\")\n",
    "\n",
    "# # 포커스된 요소의 속성 출력 예시\n",
    "# print(focused_element.tag_name)  # 현재 포커스된 요소의 태그 이름\n",
    "# print(focused_element.get_attribute('id'))  # 현재 포커스된 요소의 id 속성 값\n",
    "# print(focused_element.get_attribute('class'))  # 현재 포커스된 요소의 class 속성 값"
   ]
  },
  {
   "cell_type": "code",
   "execution_count": 189,
   "id": "8380dda0",
   "metadata": {},
   "outputs": [],
   "source": [
    "for li in lis:\n",
    "    if '광고' in li.text:\n",
    "        continue\n",
    "    li.find_element(By.CSS_SELECTOR, 'div.CHC5F > a.tzwk0').click()\n",
    "    time.sleep(2)\n",
    "    # # iframe 탈출\n",
    "    driver.switch_to.default_content()\n",
    "    # entryIframe 진입\n",
    "    entryIframe = driver.find_element(By.CSS_SELECTOR, \"#root #entryIframe\")    \n",
    "    driver.switch_to.frame(entryIframe)\n",
    "    # 방문자리뷰 클릭\n",
    "    driver.find_element(By.CSS_SELECTOR, 'span.PXMot').click()\n",
    "    time.sleep(1)\n",
    "    break\n",
    "    "
   ]
  },
  {
   "cell_type": "code",
   "execution_count": null,
   "id": "19c01c8b",
   "metadata": {},
   "outputs": [],
   "source": [
    "# 페이지 이동\n",
    "while True :\n",
    "    next_page = driver.find_element(By.CSS_SELECTOR, 'div.zRM9F>:last-child')\n",
    "    if next_page.get_attribute('aria-disabled') == 'false' :\n",
    "        next_page.click()\n",
    "        time.sleep(1)\n",
    "        lis = driver.find_elements(By.CSS_SELECTOR, 'li.UEzoS.rTjJo')\n",
    "    else :\n",
    "        break;\n",
    "                "
   ]
  },
  {
   "cell_type": "code",
   "execution_count": null,
   "id": "de657a55",
   "metadata": {},
   "outputs": [],
   "source": []
  },
  {
   "cell_type": "code",
   "execution_count": null,
   "id": "33b84150",
   "metadata": {},
   "outputs": [],
   "source": []
  },
  {
   "cell_type": "code",
   "execution_count": null,
   "id": "8048a0b7",
   "metadata": {},
   "outputs": [],
   "source": []
  },
  {
   "cell_type": "code",
   "execution_count": 135,
   "id": "b3be6b74",
   "metadata": {},
   "outputs": [],
   "source": [
    "# 브라우져 세션 종료\n",
    "driver.quit()"
   ]
  }
 ],
 "metadata": {
  "kernelspec": {
   "display_name": "Python 3 (ipykernel)",
   "language": "python",
   "name": "python3"
  },
  "language_info": {
   "codemirror_mode": {
    "name": "ipython",
    "version": 3
   },
   "file_extension": ".py",
   "mimetype": "text/x-python",
   "name": "python",
   "nbconvert_exporter": "python",
   "pygments_lexer": "ipython3",
   "version": "3.11.5"
  },
  "toc": {
   "base_numbering": 1,
   "nav_menu": {},
   "number_sections": true,
   "sideBar": true,
   "skip_h1_title": false,
   "title_cell": "Table of Contents",
   "title_sidebar": "Contents",
   "toc_cell": false,
   "toc_position": {},
   "toc_section_display": true,
   "toc_window_display": false
  },
  "varInspector": {
   "cols": {
    "lenName": 16,
    "lenType": 16,
    "lenVar": 40
   },
   "kernels_config": {
    "python": {
     "delete_cmd_postfix": "",
     "delete_cmd_prefix": "del ",
     "library": "var_list.py",
     "varRefreshCmd": "print(var_dic_list())"
    },
    "r": {
     "delete_cmd_postfix": ") ",
     "delete_cmd_prefix": "rm(",
     "library": "var_list.r",
     "varRefreshCmd": "cat(var_dic_list()) "
    }
   },
   "types_to_exclude": [
    "module",
    "function",
    "builtin_function_or_method",
    "instance",
    "_Feature"
   ],
   "window_display": false
  }
 },
 "nbformat": 4,
 "nbformat_minor": 5
}
