{
 "cells": [
  {
   "cell_type": "code",
   "execution_count": 1,
   "id": "585608d8",
   "metadata": {},
   "outputs": [],
   "source": [
    "# selenium 라이브러리에서 webdriver 모듈 임포트, 웹 브라우저를 자동으로 제어하기 위한 기능을 제공\n",
    "from selenium import webdriver\n",
    "# 크롬 웹드라이버를 위한 서비스 객체를 사용하기 위해 Service 모듈 임포트\n",
    "from selenium.webdriver.chrome.service import Service\n",
    "# 크롬 드라이버의 자동 업데이트를 위해 webdriver_manager에서 ChromeDriverManager를 임포트\n",
    "from webdriver_manager.chrome import ChromeDriverManager\n",
    "# 크롬 옵션을 설정하기 위한 Options 모듈을 임포트 일반적으로 브라우저의 특정 옵션을 설정할 때 사용\n",
    "from selenium.webdriver.chrome.options import Options\n",
    "# html요소 접근 전략\n",
    "from selenium.webdriver.common.by import By\n",
    "# 키보드 조작\n",
    "from selenium.webdriver.common.keys import Keys\n",
    "\n",
    "import pyautogui\n",
    "import time\n",
    "from bs4 import BeautifulSoup\n",
    "import pandas as pd\n",
    "\n",
    "# 크롬 브라우저 꺼짐 방지\n",
    "chrome_options = Options()\n",
    "chrome_options.add_experimental_option(\"detach\",True)\n",
    "# 불필요한 에레 메세지 제거\n",
    "chrome_options.add_experimental_option(\"excludeSwitches\",[\"enable-logging\"])"
   ]
  },
  {
   "cell_type": "code",
   "execution_count": 23,
   "id": "61b03c01",
   "metadata": {},
   "outputs": [],
   "source": [
    "# ChromeDriverManager를 사용해 버전에 맞는 웹드라이버를 다운로드하여 해당 경로를 셀레니움에 전달\n",
    "driver = webdriver.Chrome(service=Service(ChromeDriverManager().install()), options=chrome_options)\n",
    "# 웹페이지가 로딩될대까지 2초대기\n",
    "driver.implicitly_wait(2)\n",
    "# 브라우저 크기 최대화\n",
    "driver.maximize_window()"
   ]
  },
  {
   "cell_type": "code",
   "execution_count": 24,
   "id": "c6e59ea5",
   "metadata": {},
   "outputs": [],
   "source": [
    "url = 'https://map.naver.com'\n",
    "driver.get(url)"
   ]
  },
  {
   "cell_type": "code",
   "execution_count": 25,
   "id": "34f01aa2",
   "metadata": {},
   "outputs": [],
   "source": [
    "# 검색어 입력\n",
    "input_search = driver.find_element(By.CSS_SELECTOR, 'input.input_search')\n",
    "input_search.click()\n",
    "time.sleep(1)\n",
    "input_search.send_keys('울산 북구 맛집')\n",
    "time.sleep(1)\n",
    "input_search.send_keys(Keys.ENTER)\n",
    "time.sleep(1)"
   ]
  },
  {
   "cell_type": "code",
   "execution_count": 26,
   "id": "8b9749c1",
   "metadata": {},
   "outputs": [],
   "source": [
    "# 필터링 (많이찾는)\n",
    "\n",
    "# iframe 찾기\n",
    "iframe = driver.find_element(By.CSS_SELECTOR, \"#searchIframe\")\n",
    "\n",
    "# iframe 안으로 들어가기\n",
    "driver.switch_to.frame(iframe)\n",
    "driver.find_element(By.CSS_SELECTOR, '#app-root .T46Lb.pTP9T.LXtsf').click()\n",
    "time.sleep(1)\n",
    "\n",
    "# '많이찾는' 클릭!\n",
    "driver.find_element(By.CSS_SELECTOR, '.qP6uz.SbSKx').click()\n",
    "time.sleep(1)\n",
    "\n",
    "# 결과 보기 버튼\n",
    "driver.find_element(By.CSS_SELECTOR, '#modal-root .GZe5x.Mj_l3').click()\n",
    "time.sleep(1)"
   ]
  },
  {
   "cell_type": "code",
   "execution_count": null,
   "id": "18dfa1f8",
   "metadata": {},
   "outputs": [],
   "source": [
    "# 무한 스크롤\n"
   ]
  },
  {
   "cell_type": "code",
   "execution_count": null,
   "id": "bcac4679",
   "metadata": {},
   "outputs": [],
   "source": [
    "# iframe 탈출\n",
    "driver.switch_to.default_content()"
   ]
  },
  {
   "cell_type": "code",
   "execution_count": null,
   "id": "171b4a2d",
   "metadata": {},
   "outputs": [],
   "source": []
  },
  {
   "cell_type": "code",
   "execution_count": null,
   "id": "95472575",
   "metadata": {},
   "outputs": [],
   "source": []
  },
  {
   "cell_type": "code",
   "execution_count": null,
   "id": "b9363489",
   "metadata": {},
   "outputs": [],
   "source": []
  },
  {
   "cell_type": "code",
   "execution_count": null,
   "id": "a4140390",
   "metadata": {},
   "outputs": [],
   "source": []
  },
  {
   "cell_type": "code",
   "execution_count": null,
   "id": "b7b16fcc",
   "metadata": {},
   "outputs": [],
   "source": []
  }
 ],
 "metadata": {
  "kernelspec": {
   "display_name": "Python 3 (ipykernel)",
   "language": "python",
   "name": "python3"
  },
  "language_info": {
   "codemirror_mode": {
    "name": "ipython",
    "version": 3
   },
   "file_extension": ".py",
   "mimetype": "text/x-python",
   "name": "python",
   "nbconvert_exporter": "python",
   "pygments_lexer": "ipython3",
   "version": "3.11.5"
  },
  "toc": {
   "base_numbering": 1,
   "nav_menu": {},
   "number_sections": true,
   "sideBar": true,
   "skip_h1_title": false,
   "title_cell": "Table of Contents",
   "title_sidebar": "Contents",
   "toc_cell": false,
   "toc_position": {},
   "toc_section_display": true,
   "toc_window_display": false
  },
  "varInspector": {
   "cols": {
    "lenName": 16,
    "lenType": 16,
    "lenVar": 40
   },
   "kernels_config": {
    "python": {
     "delete_cmd_postfix": "",
     "delete_cmd_prefix": "del ",
     "library": "var_list.py",
     "varRefreshCmd": "print(var_dic_list())"
    },
    "r": {
     "delete_cmd_postfix": ") ",
     "delete_cmd_prefix": "rm(",
     "library": "var_list.r",
     "varRefreshCmd": "cat(var_dic_list()) "
    }
   },
   "types_to_exclude": [
    "module",
    "function",
    "builtin_function_or_method",
    "instance",
    "_Feature"
   ],
   "window_display": false
  }
 },
 "nbformat": 4,
 "nbformat_minor": 5
}
