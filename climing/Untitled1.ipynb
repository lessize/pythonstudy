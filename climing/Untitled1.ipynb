{
 "cells": [
  {
   "cell_type": "code",
   "execution_count": 1,
   "id": "f2d8786a",
   "metadata": {},
   "outputs": [],
   "source": [
    "import pandas as pd"
   ]
  },
  {
   "cell_type": "code",
   "execution_count": 2,
   "id": "df992ce0",
   "metadata": {},
   "outputs": [
    {
     "data": {
      "text/html": [
       "<div>\n",
       "<style scoped>\n",
       "    .dataframe tbody tr th:only-of-type {\n",
       "        vertical-align: middle;\n",
       "    }\n",
       "\n",
       "    .dataframe tbody tr th {\n",
       "        vertical-align: top;\n",
       "    }\n",
       "\n",
       "    .dataframe thead th {\n",
       "        text-align: right;\n",
       "    }\n",
       "</style>\n",
       "<table border=\"1\" class=\"dataframe\">\n",
       "  <thead>\n",
       "    <tr style=\"text-align: right;\">\n",
       "      <th></th>\n",
       "      <th>title</th>\n",
       "      <th>content</th>\n",
       "      <th>date</th>\n",
       "    </tr>\n",
       "  </thead>\n",
       "  <tbody>\n",
       "    <tr>\n",
       "      <th>0</th>\n",
       "      <td>김해에도 백두산이? 대동에 위치한 백두산(白頭山) 등산!</td>\n",
       "      <td>[제10기 김해시 SNS 서포터즈 최준환반갑습니다. 저는 이번에 큰 마음을 먹고 백...</td>\n",
       "      <td>20240103</td>\n",
       "    </tr>\n",
       "    <tr>\n",
       "      <th>1</th>\n",
       "      <td>저기, 백두산 [5]</td>\n",
       "      <td>[  2024. 1. 10 ....3박4일  하나투어페키지아, 백두산~~~~~^^두...</td>\n",
       "      <td>20240321</td>\n",
       "    </tr>\n",
       "    <tr>\n",
       "      <th>2</th>\n",
       "      <td>겨울 백두산 여행 3박 4일-8 굿바이 연길공항, 중국국제공항...</td>\n",
       "      <td>[드디어 백두산 패키지여행 마지막 편.  12월 말에 다녀왔으니 벌써 한 달이나 지...</td>\n",
       "      <td>20240127</td>\n",
       "    </tr>\n",
       "    <tr>\n",
       "      <th>3</th>\n",
       "      <td>백두산 자유여행 시 택시비와 차량선택/ 캐리어 보관하기</td>\n",
       "      <td>[하루가 다르게 따스한 봄 기운이 산들산들 불어 오면서 백두산 여행을 준비하시는 수...</td>\n",
       "      <td>20240401</td>\n",
       "    </tr>\n",
       "    <tr>\n",
       "      <th>4</th>\n",
       "      <td>[짧지] 백두산 : 꼭대기와 그곳에 사는 괴물 이야기</td>\n",
       "      <td>[간단 명료한 짧은 지식, 짧지.지식은 짧지만 내용이 짧지는 않습니다.하지만 세줄 ...</td>\n",
       "      <td>20240329</td>\n",
       "    </tr>\n",
       "    <tr>\n",
       "      <th>...</th>\n",
       "      <td>...</td>\n",
       "      <td>...</td>\n",
       "      <td>...</td>\n",
       "    </tr>\n",
       "    <tr>\n",
       "      <th>92</th>\n",
       "      <td>아이와 함께 김해 백두산 등산해요!</td>\n",
       "      <td>[제10기 김해시 SNS 서포터즈 윤혜실안녕하세요. 점점 따뜻해지는 날씨, 자연 속...</td>\n",
       "      <td>20240313</td>\n",
       "    </tr>\n",
       "    <tr>\n",
       "      <th>93</th>\n",
       "      <td>김해에 백두산이 있다? 없다?</td>\n",
       "      <td>[김해 백두산경상남도 김해시 대동면 괴정리와 초정리의 경계가 되는 산으로 북서쪽의 ...</td>\n",
       "      <td>20240319</td>\n",
       "    </tr>\n",
       "    <tr>\n",
       "      <th>94</th>\n",
       "      <td>[지도만세] 79. 백두산, 중국명 '창바이산'으로 세계지질공원 등재</td>\n",
       "      <td>[안녕하세요. 나무연필입니다. 지도로 만나는 세상, 지도로 읽는 뉴스 시간입니다.중...</td>\n",
       "      <td>20240403</td>\n",
       "    </tr>\n",
       "    <tr>\n",
       "      <th>95</th>\n",
       "      <td>백두산 자유여행 시 현지에서 알리페이, 위챗페이 사용과...</td>\n",
       "      <td>[백두산 여행을 패키지가 아닌 평생 추억에 남을 나 만의 즐거운 여행을 하고 싶어도...</td>\n",
       "      <td>20240324</td>\n",
       "    </tr>\n",
       "    <tr>\n",
       "      <th>96</th>\n",
       "      <td>백두산탐방</td>\n",
       "      <td>[갑진년 새해찿아가고  싶었던 그곳백두산에 가려고3박4일 패키지 상품을  선택하여1...</td>\n",
       "      <td>20240116</td>\n",
       "    </tr>\n",
       "  </tbody>\n",
       "</table>\n",
       "<p>97 rows × 3 columns</p>\n",
       "</div>"
      ],
      "text/plain": [
       "                                     title  \\\n",
       "0          김해에도 백두산이? 대동에 위치한 백두산(白頭山) 등산!   \n",
       "1                              저기, 백두산 [5]   \n",
       "2   겨울 백두산 여행 3박 4일-8 굿바이 연길공항, 중국국제공항...    \n",
       "3           백두산 자유여행 시 택시비와 차량선택/ 캐리어 보관하기   \n",
       "4            [짧지] 백두산 : 꼭대기와 그곳에 사는 괴물 이야기   \n",
       "..                                     ...   \n",
       "92                     아이와 함께 김해 백두산 등산해요!   \n",
       "93                        김해에 백두산이 있다? 없다?   \n",
       "94  [지도만세] 79. 백두산, 중국명 '창바이산'으로 세계지질공원 등재   \n",
       "95      백두산 자유여행 시 현지에서 알리페이, 위챗페이 사용과...    \n",
       "96                                   백두산탐방   \n",
       "\n",
       "                                              content      date  \n",
       "0   [제10기 김해시 SNS 서포터즈 최준환반갑습니다. 저는 이번에 큰 마음을 먹고 백...  20240103  \n",
       "1   [  2024. 1. 10 ....3박4일  하나투어페키지아, 백두산~~~~~^^두...  20240321  \n",
       "2   [드디어 백두산 패키지여행 마지막 편.  12월 말에 다녀왔으니 벌써 한 달이나 지...  20240127  \n",
       "3   [하루가 다르게 따스한 봄 기운이 산들산들 불어 오면서 백두산 여행을 준비하시는 수...  20240401  \n",
       "4   [간단 명료한 짧은 지식, 짧지.지식은 짧지만 내용이 짧지는 않습니다.하지만 세줄 ...  20240329  \n",
       "..                                                ...       ...  \n",
       "92  [제10기 김해시 SNS 서포터즈 윤혜실안녕하세요. 점점 따뜻해지는 날씨, 자연 속...  20240313  \n",
       "93  [김해 백두산경상남도 김해시 대동면 괴정리와 초정리의 경계가 되는 산으로 북서쪽의 ...  20240319  \n",
       "94  [안녕하세요. 나무연필입니다. 지도로 만나는 세상, 지도로 읽는 뉴스 시간입니다.중...  20240403  \n",
       "95  [백두산 여행을 패키지가 아닌 평생 추억에 남을 나 만의 즐거운 여행을 하고 싶어도...  20240324  \n",
       "96  [갑진년 새해찿아가고  싶었던 그곳백두산에 가려고3박4일 패키지 상품을  선택하여1...  20240116  \n",
       "\n",
       "[97 rows x 3 columns]"
      ]
     },
     "execution_count": 2,
     "metadata": {},
     "output_type": "execute_result"
    }
   ],
   "source": [
    "pd.read_csv('blog (1) (1).csv')"
   ]
  }
 ],
 "metadata": {
  "kernelspec": {
   "display_name": "Python 3 (ipykernel)",
   "language": "python",
   "name": "python3"
  },
  "language_info": {
   "codemirror_mode": {
    "name": "ipython",
    "version": 3
   },
   "file_extension": ".py",
   "mimetype": "text/x-python",
   "name": "python",
   "nbconvert_exporter": "python",
   "pygments_lexer": "ipython3",
   "version": "3.11.5"
  },
  "toc": {
   "base_numbering": 1,
   "nav_menu": {},
   "number_sections": true,
   "sideBar": true,
   "skip_h1_title": false,
   "title_cell": "Table of Contents",
   "title_sidebar": "Contents",
   "toc_cell": false,
   "toc_position": {},
   "toc_section_display": true,
   "toc_window_display": false
  },
  "varInspector": {
   "cols": {
    "lenName": 16,
    "lenType": 16,
    "lenVar": 40
   },
   "kernels_config": {
    "python": {
     "delete_cmd_postfix": "",
     "delete_cmd_prefix": "del ",
     "library": "var_list.py",
     "varRefreshCmd": "print(var_dic_list())"
    },
    "r": {
     "delete_cmd_postfix": ") ",
     "delete_cmd_prefix": "rm(",
     "library": "var_list.r",
     "varRefreshCmd": "cat(var_dic_list()) "
    }
   },
   "types_to_exclude": [
    "module",
    "function",
    "builtin_function_or_method",
    "instance",
    "_Feature"
   ],
   "window_display": false
  }
 },
 "nbformat": 4,
 "nbformat_minor": 5
}
