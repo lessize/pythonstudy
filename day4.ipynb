{
 "cells": [
  {
   "cell_type": "markdown",
   "metadata": {
    "id": "F_cVFQB8Tw03"
   },
   "source": [
    "## 은행 계좌 클래스 설계하기\n",
    "  - 속성 : 잔액\n",
    "  - 행위 : 입금, 출금, 잔액\n",
    "    - 입금 : 1회 입금 한도는 4만원을 초과할 수 없다.\n",
    "    - 출금 : 1회 출금 한도는 4만원을 초과할 수 없다.\n",
    "    - 잔액 : 마이너스 잔고를 허용하지 않는다.\n",
    "  - 메뉴 구성 : 1.입금, 2.출금, 3.잔액조회, 4.종료"
   ]
  },
  {
   "cell_type": "code",
   "execution_count": 23,
   "metadata": {
    "executionInfo": {
     "elapsed": 339,
     "status": "ok",
     "timestamp": 1710382695350,
     "user": {
      "displayName": "NY L",
      "userId": "05362976838027151043"
     },
     "user_tz": -540
    },
    "id": "tJtvyrzemmVN"
   },
   "outputs": [],
   "source": [
    "class AccountExecption(Exception):\n",
    "  def __init__(self, errmsg):\n",
    "    self.errmsg = errmsg\n",
    "  # 객체의 상태를 문자열로 표현하는 메소드 __str__\n",
    "  # print(), str() 사용 시 객체의 상태를 문자열로 출력해준다\n",
    "  def __str__(self):\n",
    "    return self.errmsg"
   ]
  },
  {
   "cell_type": "code",
   "execution_count": 24,
   "metadata": {
    "executionInfo": {
     "elapsed": 1,
     "status": "ok",
     "timestamp": 1710382697552,
     "user": {
      "displayName": "NY L",
      "userId": "05362976838027151043"
     },
     "user_tz": -540
    },
    "id": "XsQqt1McOF1V"
   },
   "outputs": [],
   "source": [
    "class Account:\n",
    "  pass\n",
    "\n",
    "  # 생성자\n",
    "  def __init__(self):\n",
    "    self.balance = 0\n",
    "\n",
    "  # 입금\n",
    "  def deposit(self, money):\n",
    "    if money > 40000 :\n",
    "      # print(\"1회 입금 한도는 4만원을 초과할 수 없습니다.\")\n",
    "      raise AccountExecption(\"1회 입금 한도는 4만원을 초과할 수 없습니다.\")\n",
    "\n",
    "    self.balance += money\n",
    "\n",
    "  # 출금\n",
    "  def withdraw(self, money):\n",
    "    if money > 40000 :\n",
    "      # print(\"1회 출금 한도는 4만원을 초과할 수 없습니다.\")\n",
    "      raise AccountExecption(\"1회 출금 한도는 4만원을 초과할 수 없습니다.\")\n",
    "\n",
    "    # 마이너스 잔고 체크\n",
    "    if self.balance - money < 0:\n",
    "      # print(f\"잔액이 부족합니다. 현재 잔액  {self.balance}\")\n",
    "      raise AccountExecption(f\"잔액이 부족합니다. 현재 잔액  {self.balance}\")\n",
    "\n",
    "    self.balance -= money\n",
    "\n",
    "  # 잔액조회\n",
    "  def getBalance(self):\n",
    "    return self.balance\n",
    "\n"
   ]
  },
  {
   "cell_type": "code",
   "execution_count": 28,
   "metadata": {
    "colab": {
     "base_uri": "https://localhost:8080/"
    },
    "executionInfo": {
     "elapsed": 9814,
     "status": "ok",
     "timestamp": 1710383602257,
     "user": {
      "displayName": "NY L",
      "userId": "05362976838027151043"
     },
     "user_tz": -540
    },
    "id": "JB8HMSljXWuV",
    "outputId": "2c38443f-cee0-4860-8368-68add6b853d3"
   },
   "outputs": [
    {
     "name": "stdout",
     "output_type": "stream",
     "text": [
      "***********************************\n",
      " 1.입금 2.출금 3.잔액조회 4.종료\n",
      "***********************************\n",
      "메뉴 선택 : 5\n",
      "5, 6, 7\n",
      "***********************************\n",
      " 1.입금 2.출금 3.잔액조회 4.종료\n",
      "***********************************\n",
      "메뉴 선택 : 7\n",
      "5, 6, 7\n",
      "***********************************\n",
      " 1.입금 2.출금 3.잔액조회 4.종료\n",
      "***********************************\n",
      "메뉴 선택 : 4\n"
     ]
    }
   ],
   "source": [
    "account = Account()\n",
    "\n",
    "stop = False\n",
    "while not stop :\n",
    "  try:\n",
    "    print(\"*\" * 35)\n",
    "    print(\" 1.입금 2.출금 3.잔액조회 4.종료\")\n",
    "    print(\"*\" * 35)\n",
    "    menu = input(\"메뉴 선택 : \")\n",
    "    match menu:\n",
    "      case \"4\":\n",
    "        stop = True\n",
    "        break;\n",
    "\n",
    "      case \"1\":\n",
    "        money = int(input(\"입금액 : \"))\n",
    "        account.deposit(money)\n",
    "\n",
    "      case \"2\":\n",
    "        money = int(input(\"출금액 : \"))\n",
    "        account.withdraw(money)\n",
    "\n",
    "      case \"3\":\n",
    "        print(\"잔액조회\")\n",
    "        print(f'잔액 : {account.getBalance()}')\n",
    "\n",
    "      case \"5\" | \"6\" | \"7\" :\n",
    "        print(\"5, 6, 7\")\n",
    "\n",
    "      case _ :\n",
    "        print(\"1~4 중에서 선택하세요.\")\n",
    "\n",
    "  except AccountExecption as e :\n",
    "    print(e)\n",
    "  else:\n",
    "    continue"
   ]
  },
  {
   "cell_type": "code",
   "execution_count": 19,
   "metadata": {
    "colab": {
     "base_uri": "https://localhost:8080/"
    },
    "executionInfo": {
     "elapsed": 367,
     "status": "ok",
     "timestamp": 1710379592770,
     "user": {
      "displayName": "NY L",
      "userId": "05362976838027151043"
     },
     "user_tz": -540
    },
    "id": "9AfHN1a4hneQ",
    "outputId": "000161db-b300-480b-bf2a-e308407b36fc"
   },
   "outputs": [
    {
     "name": "stdout",
     "output_type": "stream",
     "text": [
      "1\n",
      "list index out of range\n",
      "예외 발생 여부 상관 없이 실행할 코드\n",
      "2\n"
     ]
    }
   ],
   "source": [
    "print('1')\n",
    "\n",
    "data = [1, 2, 3]\n",
    "\n",
    "try:\n",
    "  # 예외가 예상되는 코드\n",
    "  result = 1 / 1\n",
    "\n",
    "  print(data[3])\n",
    "  print(data[-1+1])\n",
    "except IndexError as e:\n",
    "  # 예외가 발생했을 때 실행할 코드\n",
    "  print(e)\n",
    "else :\n",
    "  # 예외가 발생하지 않았을 때 실행할 코드\n",
    "  print(\"예외가 발생하지 않음\")\n",
    "finally :\n",
    "  print(\"예외 발생 여부 상관 없이 실행할 코드\")\n",
    "print('2')"
   ]
  },
  {
   "cell_type": "code",
   "execution_count": 22,
   "metadata": {
    "colab": {
     "base_uri": "https://localhost:8080/"
    },
    "executionInfo": {
     "elapsed": 2,
     "status": "ok",
     "timestamp": 1710380428456,
     "user": {
      "displayName": "NY L",
      "userId": "05362976838027151043"
     },
     "user_tz": -540
    },
    "id": "yWwiRh06l5gK",
    "outputId": "413fef03-cdd0-4124-da8c-571d8e767bd6"
   },
   "outputs": [
    {
     "name": "stdout",
     "output_type": "stream",
     "text": [
      "피젯수는 0이 될 수 없습니다!\n"
     ]
    }
   ],
   "source": [
    "def f2 (num1, num):\n",
    "  try :\n",
    "    result = num1 / num2\n",
    "  except :\n",
    "    raise MyError()\n",
    "  return result\n",
    "\n",
    "try:\n",
    "  f2(10, 0)\n",
    "except MyError as e:\n",
    "  print(e)"
   ]
  },
  {
   "cell_type": "code",
   "execution_count": null,
   "metadata": {
    "id": "O2cl4DCI9s59"
   },
   "outputs": [],
   "source": []
  },
  {
   "cell_type": "markdown",
   "metadata": {
    "id": "qiTb7Ou_9yRq"
   },
   "source": [
    "## 정규표현식"
   ]
  },
  {
   "cell_type": "code",
   "execution_count": 30,
   "metadata": {
    "executionInfo": {
     "elapsed": 343,
     "status": "ok",
     "timestamp": 1710386426765,
     "user": {
      "displayName": "NY L",
      "userId": "05362976838027151043"
     },
     "user_tz": -540
    },
    "id": "3Nd8Pt2e91sv"
   },
   "outputs": [],
   "source": [
    "import re"
   ]
  },
  {
   "cell_type": "markdown",
   "metadata": {
    "id": "z0TOp5MEAhJy"
   },
   "source": [
    "### re.match\n",
    "  처음부터 특정 패턴으로 시작하는지 확인할 때"
   ]
  },
  {
   "cell_type": "code",
   "execution_count": 38,
   "metadata": {
    "colab": {
     "base_uri": "https://localhost:8080/"
    },
    "executionInfo": {
     "elapsed": 324,
     "status": "ok",
     "timestamp": 1710386825867,
     "user": {
      "displayName": "NY L",
      "userId": "05362976838027151043"
     },
     "user_tz": -540
    },
    "id": "kiG4DJgM98sh",
    "outputId": "4676ba98-cc91-4244-992b-9b1e526059e4"
   },
   "outputs": [
    {
     "name": "stdout",
     "output_type": "stream",
     "text": [
      "<class 'NoneType'>\n",
      "매치되지 않음\n"
     ]
    }
   ],
   "source": [
    "pattern = r'배우자'\n",
    "text = '파이썬을 배우자'\n",
    "match = re.match(pattern, text)\n",
    "print(type(match))\n",
    "if match:\n",
    "  print('매치됨 : ', match.group())\n",
    "else:\n",
    "  print('매치되지 않음')"
   ]
  },
  {
   "cell_type": "code",
   "execution_count": 36,
   "metadata": {
    "colab": {
     "base_uri": "https://localhost:8080/"
    },
    "executionInfo": {
     "elapsed": 3,
     "status": "ok",
     "timestamp": 1710386661811,
     "user": {
      "displayName": "NY L",
      "userId": "05362976838027151043"
     },
     "user_tz": -540
    },
    "id": "pzYmhHlu-57R",
    "outputId": "fb3fbc19-f5c2-477f-9f71-bdb452b15880"
   },
   "outputs": [
    {
     "name": "stdout",
     "output_type": "stream",
     "text": [
      "Help on built-in function group:\n",
      "\n",
      "group(...) method of re.Match instance\n",
      "    group([group1, ...]) -> str or tuple.\n",
      "    Return subgroup(s) of the match by indices or names.\n",
      "    For 0 returns the entire match.\n",
      "\n"
     ]
    }
   ],
   "source": [
    "help(match.group)"
   ]
  },
  {
   "cell_type": "markdown",
   "metadata": {
    "id": "D-yLFhSCApVQ"
   },
   "source": [
    "### re.search\n",
    "  - 문자열 내에 특정 패턴을 찾고자 할 때 사용"
   ]
  },
  {
   "cell_type": "code",
   "execution_count": 39,
   "metadata": {
    "colab": {
     "base_uri": "https://localhost:8080/"
    },
    "executionInfo": {
     "elapsed": 329,
     "status": "ok",
     "timestamp": 1710386832194,
     "user": {
      "displayName": "NY L",
      "userId": "05362976838027151043"
     },
     "user_tz": -540
    },
    "id": "AfoSYzyw_qDg",
    "outputId": "3b6212a3-dde3-44ca-fcc8-b2612abceab6"
   },
   "outputs": [
    {
     "name": "stdout",
     "output_type": "stream",
     "text": [
      "<class 're.Match'>\n",
      "매치됨 :  배우자\n"
     ]
    }
   ],
   "source": [
    "pattern = r'배우자'\n",
    "text = '파이썬을 배우자'\n",
    "search = re.search(pattern, text)\n",
    "print(type(search))\n",
    "if search:\n",
    "  print('매치됨 : ', search.group())\n",
    "else:\n",
    "  print('매치되지 않음')"
   ]
  },
  {
   "cell_type": "markdown",
   "metadata": {
    "id": "ZZhN7UXAA5UQ"
   },
   "source": [
    "### re.findall()\n",
    "  - 매치되는 모든 문자열을 찾고자 할 때 사용\n",
    "  - 매치되는 문자열을 요소로 갖는 리스트로 반환\n",
    "  - 매치되는 요소가 없다면 빈 리스트로 반환"
   ]
  },
  {
   "cell_type": "code",
   "execution_count": 45,
   "metadata": {
    "colab": {
     "base_uri": "https://localhost:8080/"
    },
    "executionInfo": {
     "elapsed": 482,
     "status": "ok",
     "timestamp": 1710387479093,
     "user": {
      "displayName": "NY L",
      "userId": "05362976838027151043"
     },
     "user_tz": -540
    },
    "id": "OZ_KldywBCKp",
    "outputId": "55d9e0cf-ce83-4bfa-bd13-fce79ff4dcd4"
   },
   "outputs": [
    {
     "name": "stdout",
     "output_type": "stream",
     "text": [
      "<class 'list'>\n",
      "2\n",
      "두번째 요소 : 파이썬\n",
      "파이썬\n",
      "파이썬\n"
     ]
    }
   ],
   "source": [
    "pattern = r'파이썬'\n",
    "text = '파이썬을 배우자. 파이썬!!'\n",
    "findall = re.findall(pattern, text)\n",
    "print(type(findall))\n",
    "print(len(findall))\n",
    "print(f'두번째 요소 : {findall[1]}')\n",
    "for ele in findall :\n",
    "  print(ele)"
   ]
  },
  {
   "cell_type": "markdown",
   "metadata": {
    "id": "6J840GjVB-en"
   },
   "source": [
    "### re.finditer()\n",
    "  - 매치되는 모든 문자열을 찾고자 할 때 사용\n",
    "  - 매치되는 문자열을 요소로 갖는 이터러블 객체로 반환"
   ]
  },
  {
   "cell_type": "code",
   "execution_count": 54,
   "metadata": {
    "colab": {
     "base_uri": "https://localhost:8080/"
    },
    "executionInfo": {
     "elapsed": 4,
     "status": "ok",
     "timestamp": 1710387705217,
     "user": {
      "displayName": "NY L",
      "userId": "05362976838027151043"
     },
     "user_tz": -540
    },
    "id": "BcsUOSfPCGk0",
    "outputId": "f6f7422e-9a61-4f43-cbbb-699277fbafa4"
   },
   "outputs": [
    {
     "name": "stdout",
     "output_type": "stream",
     "text": [
      "<class 'callable_iterator'>\n",
      "<re.Match object; span=(0, 3), match='파이썬'>\n",
      "파이썬\n",
      "0\n",
      "<re.Match object; span=(10, 13), match='파이썬'>\n",
      "파이썬\n",
      "10\n"
     ]
    }
   ],
   "source": [
    "pattern = r'파이썬'\n",
    "text = '파이썬을 배우자. 파이썬!!'\n",
    "finditer = re.finditer(pattern, text)\n",
    "print(type(finditer))\n",
    "# print(len(finditer))\n",
    "# print(f'두번째 요소 : {finditer[1]}')\n",
    "for ele in finditer :\n",
    "  print(ele)\n",
    "  print(ele.group())\n",
    "  print(ele.span()[0])"
   ]
  },
  {
   "cell_type": "markdown",
   "metadata": {
    "id": "IvhNOCS8Dc-3"
   },
   "source": [
    "### re.sub()\n",
    "  - 문자열 내에서 특정 패턴을 찾아 변경하고자 할 때 사용\n",
    "  - 대체된 문자열의 결과를 반환"
   ]
  },
  {
   "cell_type": "code",
   "execution_count": 58,
   "metadata": {
    "colab": {
     "base_uri": "https://localhost:8080/"
    },
    "executionInfo": {
     "elapsed": 360,
     "status": "ok",
     "timestamp": 1710387944911,
     "user": {
      "displayName": "NY L",
      "userId": "05362976838027151043"
     },
     "user_tz": -540
    },
    "id": "Y4aCGycCDj-M",
    "outputId": "548e96ab-1fb2-4664-8e96-17f6a70ec1a0"
   },
   "outputs": [
    {
     "name": "stdout",
     "output_type": "stream",
     "text": [
      "<class 'str'>\n",
      "Python은 재미있다. Python\n"
     ]
    }
   ],
   "source": [
    "pattern = r'파이썬'\n",
    "text = '파이썬은 재미있다. 파이썬'\n",
    "replacement = 'Python'\n",
    "\n",
    "subbed_text = re.sub(pattern, replacement, text)\n",
    "print(type(subbed_text))\n",
    "print(subbed_text)"
   ]
  },
  {
   "cell_type": "markdown",
   "metadata": {
    "id": "_LQMsRZlEnbO"
   },
   "source": [
    "### re.compile()\n",
    "  - 같은 패턴을 반복해서 사용할 때 사용\n",
    "  - 정규표현식 패턴을 컴파일하여 Pattern 객체를 생성"
   ]
  },
  {
   "cell_type": "code",
   "execution_count": 61,
   "metadata": {
    "colab": {
     "base_uri": "https://localhost:8080/"
    },
    "executionInfo": {
     "elapsed": 528,
     "status": "ok",
     "timestamp": 1710388263540,
     "user": {
      "displayName": "NY L",
      "userId": "05362976838027151043"
     },
     "user_tz": -540
    },
    "id": "CpCpPERFE3oD",
    "outputId": "bdb1a895-368c-47f8-aec9-151422f22689"
   },
   "outputs": [
    {
     "name": "stdout",
     "output_type": "stream",
     "text": [
      "<class 're.Pattern'>\n",
      "파이썬\n",
      "배우자\n"
     ]
    }
   ],
   "source": [
    "pattern = re.compile(r'파이썬')\n",
    "print(type(pattern))\n",
    "\n",
    "text = '파이썬을 배우자'\n",
    "match = pattern.match(text)\n",
    "if match :\n",
    "  print(match.group())\n",
    "\n",
    "match = pattern.search(text)\n",
    "if search :\n",
    "  print(search.group())"
   ]
  },
  {
   "cell_type": "markdown",
   "metadata": {
    "id": "aU4rvoBkkJzP"
   },
   "source": [
    "### 탐욕/비탐욕 패턴\n",
    "- 수량자와 함께 사용되어 기본적으로는 탐욕 매칭함\n",
    "- 수량자와 ?를 함께 사용하여 수량자 탐욕을 제한할 수 있다."
   ]
  },
  {
   "cell_type": "code",
   "execution_count": 64,
   "metadata": {
    "colab": {
     "base_uri": "https://localhost:8080/"
    },
    "executionInfo": {
     "elapsed": 328,
     "status": "ok",
     "timestamp": 1710395974009,
     "user": {
      "displayName": "NY L",
      "userId": "05362976838027151043"
     },
     "user_tz": -540
    },
    "id": "Tb7brMEziaJi",
    "outputId": "afb92431-5d3b-4236-d8dd-4a744fff91b4"
   },
   "outputs": [
    {
     "name": "stdout",
     "output_type": "stream",
     "text": [
      "['a1b', 'a2b', 'a3b']\n"
     ]
    }
   ],
   "source": [
    "pattern = 'a.*?b'\n",
    "text = 'a1ba2ba3b'\n",
    "findall = re.findall(pattern, text)\n",
    "print(findall)"
   ]
  },
  {
   "cell_type": "markdown",
   "metadata": {
    "id": "ASeMPrLWkc4G"
   },
   "source": [
    "### 그룹핑 : ( ), (?: )\n",
    "  - ( ) : 여러 문자를 하나의 단위 처리, 캡쳐링하여 나중에 참조\n",
    "  - (?: ) : 여러 문자를 하나의 단위 처리, 캡쳐링하지 않음"
   ]
  },
  {
   "cell_type": "code",
   "execution_count": 71,
   "metadata": {
    "colab": {
     "base_uri": "https://localhost:8080/"
    },
    "executionInfo": {
     "elapsed": 351,
     "status": "ok",
     "timestamp": 1710396949435,
     "user": {
      "displayName": "NY L",
      "userId": "05362976838027151043"
     },
     "user_tz": -540
    },
    "id": "IfH1jpHckwsN",
    "outputId": "56661547-004c-4892-ef04-c151e3eb7495"
   },
   "outputs": [
    {
     "name": "stdout",
     "output_type": "stream",
     "text": [
      "example@email.com입니다\n"
     ]
    }
   ],
   "source": [
    "pattern = '(?:\\w+)@(?:\\w+)\\.(?:\\w+)'\n",
    "text = '이메일 주소는 example@email.com입니다, abc@kh.com'\n",
    "search = re.search(pattern, text)\n",
    "print(search.group())\n",
    "# 캡처링하지 않기 때문에 인덱스 접근 불가\n",
    "# print(search.group(1))\n",
    "# print(search.group(2))\n",
    "# print(search.group(3))"
   ]
  },
  {
   "cell_type": "markdown",
   "metadata": {
    "id": "JxtylI5hovaF"
   },
   "source": [
    "### 전방/후방 탐색\n",
    "  - 양의 전방 탐색 (Positive Lookahead) : (?= )\n",
    "  - 음의 전방 탐색 (Negative Lookahead) : (?! )\n",
    "  - 양의 후방 탐색 (Positive Lookbehind) : (?<= )\n",
    "  - 음의 후방 탐색 (Negative Lookbehind) : (?<! )"
   ]
  },
  {
   "cell_type": "code",
   "execution_count": 75,
   "metadata": {
    "colab": {
     "base_uri": "https://localhost:8080/"
    },
    "executionInfo": {
     "elapsed": 409,
     "status": "ok",
     "timestamp": 1710399184613,
     "user": {
      "displayName": "NY L",
      "userId": "05362976838027151043"
     },
     "user_tz": -540
    },
    "id": "7W2OogPyptMY",
    "outputId": "e34d262c-a634-4500-af8a-54501de9f965"
   },
   "outputs": [
    {
     "name": "stdout",
     "output_type": "stream",
     "text": [
      "['http://example', 'http://sample']\n"
     ]
    }
   ],
   "source": [
    "# 양의 전방 탐색\n",
    "import re\n",
    "\n",
    "pattern = r'http://[^ ]+(?=\\.com)'\n",
    "text = \"Visit our website at http://example.com or http://sample.com\"\n",
    "\n",
    "matches = re.findall(pattern, text)\n",
    "print(matches)"
   ]
  },
  {
   "cell_type": "code",
   "execution_count": 76,
   "metadata": {
    "colab": {
     "base_uri": "https://localhost:8080/"
    },
    "executionInfo": {
     "elapsed": 453,
     "status": "ok",
     "timestamp": 1710399187581,
     "user": {
      "displayName": "NY L",
      "userId": "05362976838027151043"
     },
     "user_tz": -540
    },
    "id": "URysX5Eeu9ay",
    "outputId": "924a613e-15c3-4f32-d13a-aab905601c46"
   },
   "outputs": [
    {
     "name": "stdout",
     "output_type": "stream",
     "text": [
      "['test', 'test', 'test']\n"
     ]
    }
   ],
   "source": [
    "# 음의 전방 탐색\n",
    "import re\n",
    "\n",
    "pattern = r'test(?!ing)'\n",
    "text = \"testing test pool tested tester\"\n",
    "\n",
    "matches = re.findall(pattern, text)\n",
    "print(matches)"
   ]
  },
  {
   "cell_type": "code",
   "execution_count": 83,
   "metadata": {
    "colab": {
     "base_uri": "https://localhost:8080/"
    },
    "executionInfo": {
     "elapsed": 327,
     "status": "ok",
     "timestamp": 1710400664353,
     "user": {
      "displayName": "NY L",
      "userId": "05362976838027151043"
     },
     "user_tz": -540
    },
    "id": "_DiMH4p7vqHx",
    "outputId": "6c11badf-ad2c-42f2-adef-13ebb645049c"
   },
   "outputs": [
    {
     "name": "stdout",
     "output_type": "stream",
     "text": [
      "['5.99', '10']\n"
     ]
    }
   ],
   "source": [
    "# 양의 후방 탐색\n",
    "import re\n",
    "\n",
    "pattern = r'(?<=\\$)\\d+(?:\\.\\d+)?'\n",
    "text = \"The price is $5.99 for the first item and $10 for the second.\"\n",
    "\n",
    "matches = re.findall(pattern, text)\n",
    "print(matches)"
   ]
  },
  {
   "cell_type": "code",
   "execution_count": 82,
   "metadata": {
    "colab": {
     "base_uri": "https://localhost:8080/"
    },
    "executionInfo": {
     "elapsed": 364,
     "status": "ok",
     "timestamp": 1710399885674,
     "user": {
      "displayName": "NY L",
      "userId": "05362976838027151043"
     },
     "user_tz": -540
    },
    "id": "st4OV1KcwufC",
    "outputId": "6cd98a81-5cbf-441d-fb25-7d39f0eb005b"
   },
   "outputs": [
    {
     "name": "stdout",
     "output_type": "stream",
     "text": [
      "<re.Match object; span=(41, 45), match='good'>\n"
     ]
    }
   ],
   "source": [
    "# 음의 후방 탐색\n",
    "import re\n",
    "\n",
    "pattern = r'(?<!not\\s)good'\n",
    "text = \"The cake is not good but the pie is very good\"\n",
    "\n",
    "matches = re.finditer(pattern, text)\n",
    "# print(matches)\n",
    "for ele in matches :\n",
    "  print(ele)"
   ]
  },
  {
   "cell_type": "code",
   "execution_count": 90,
   "metadata": {
    "colab": {
     "base_uri": "https://localhost:8080/"
    },
    "executionInfo": {
     "elapsed": 471,
     "status": "ok",
     "timestamp": 1710404191545,
     "user": {
      "displayName": "NY L",
      "userId": "05362976838027151043"
     },
     "user_tz": -540
    },
    "id": "wOXrtvegACaD",
    "outputId": "3dd838be-a484-4092-bda0-c413f5c5c767"
   },
   "outputs": [
    {
     "name": "stdout",
     "output_type": "stream",
     "text": [
      "2024-03-14T16:55:57.972+09:00  WARN 4084 --- [restartedMain] c.zaxxer.hikari.util.DriverDataSource    : Registered driver with driverClassName=oracle.jdbc.driver.OracleDriver was not found, trying direct instantiation.\n",
      "2024-03-14T16:56:00.292+09:00  WARN 4084 --- [restartedMain] org.hibernate.dialect.Dialect            : HHH000511: The 18.0.0 version for [org.hibernate.dialect.OracleDialect] is no longer supported, hence certain features may not work properly. The minimum supported version is 19.0.0. Check the community dialects project for available legacy versions.\n",
      "2024-03-14T16:56:02.345+09:00  WARN 4084 --- [restartedMain] JpaBaseConfiguration$JpaWebConfiguration : spring.jpa.open-in-view is enabled by default. Therefore, database queries may be performed during view rendering. Explicitly configure spring.jpa.open-in-view to disable this warning\n"
     ]
    }
   ],
   "source": [
    "import re\n",
    "err_messages = []\n",
    "f = open(\"/content/spring.log\", mode='r', encoding='utf-8')\n",
    "\n",
    "pattern = '^2024-03-\\d{2}.*WARN.*'\n",
    "\n",
    "for line in f :\n",
    "  match = re.match(pattern, line)\n",
    "  if match :\n",
    "    err_messages.append(match.group().strip())\n",
    "\n",
    "for msg in err_messages :\n",
    "  print(msg)"
   ]
  },
  {
   "cell_type": "code",
   "execution_count": null,
   "metadata": {
    "id": "tBgolG_KEIO5"
   },
   "outputs": [],
   "source": []
  }
 ],
 "metadata": {
  "colab": {
   "authorship_tag": "ABX9TyOitqdReziSYul9pTrXLpMs",
   "collapsed_sections": [
    "F_cVFQB8Tw03",
    "ASeMPrLWkc4G"
   ],
   "provenance": []
  },
  "kernelspec": {
   "display_name": "Python 3 (ipykernel)",
   "language": "python",
   "name": "python3"
  },
  "language_info": {
   "codemirror_mode": {
    "name": "ipython",
    "version": 3
   },
   "file_extension": ".py",
   "mimetype": "text/x-python",
   "name": "python",
   "nbconvert_exporter": "python",
   "pygments_lexer": "ipython3",
   "version": "3.11.5"
  },
  "toc": {
   "base_numbering": 1,
   "nav_menu": {},
   "number_sections": true,
   "sideBar": true,
   "skip_h1_title": false,
   "title_cell": "Table of Contents",
   "title_sidebar": "Contents",
   "toc_cell": false,
   "toc_position": {
    "height": "calc(100% - 180px)",
    "left": "10px",
    "top": "150px",
    "width": "303px"
   },
   "toc_section_display": true,
   "toc_window_display": true
  },
  "varInspector": {
   "cols": {
    "lenName": 16,
    "lenType": 16,
    "lenVar": 40
   },
   "kernels_config": {
    "python": {
     "delete_cmd_postfix": "",
     "delete_cmd_prefix": "del ",
     "library": "var_list.py",
     "varRefreshCmd": "print(var_dic_list())"
    },
    "r": {
     "delete_cmd_postfix": ") ",
     "delete_cmd_prefix": "rm(",
     "library": "var_list.r",
     "varRefreshCmd": "cat(var_dic_list()) "
    }
   },
   "types_to_exclude": [
    "module",
    "function",
    "builtin_function_or_method",
    "instance",
    "_Feature"
   ],
   "window_display": false
  }
 },
 "nbformat": 4,
 "nbformat_minor": 1
}
